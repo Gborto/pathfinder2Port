{
 "cells": [
  {
   "cell_type": "code",
   "execution_count": 4,
   "id": "63cae04f",
   "metadata": {},
   "outputs": [
    {
     "name": "stdout",
     "output_type": "stream",
     "text": [
      "['name', ' armorProficiency', ' price', ' caBonus', ' dexCap', ' checkPenalty', ' speedPenalty', ' strenght', ' bulk', ' group', ' armorTraits']\n",
      "['No armor', ' unarmored', ' -', ' +0', ' -', ' -', ' -', ' -', ' -', ' -', ' -']\n",
      "[\"Explorer's clothing\", ' unarmored', ' 1 sp', ' +0', ' +5', ' -', ' -', ' -', ' L', ' -', ' Comfort']\n",
      "['Padded armor', ' lightArmor', ' 2 sp', ' +1', ' +3', ' -', ' -', ' 10', ' L', ' -', ' Comfort']\n",
      "['Leather', ' lightArmor', ' 2 gp', ' +1', ' +4', ' -1', ' -', ' 10', ' 1', ' -', ' -']\n",
      "['Studded leather', ' lightArmor', ' 3 gp', ' +2', ' +3', ' -1', ' -', ' 12', ' 1', ' -', ' -']\n",
      "['Chain shirt', ' lightArmor', ' 5 gp', ' +2', ' +3', ' -1', ' -', ' 12', ' 1', ' -', ' Flexible', ' Noisy']\n",
      "['Hide', ' mediumArmor', ' 2 gp', ' +3', ' +2', ' -2', ' -5', ' ft.', ' 14', ' 2', ' Leather', ' -']\n",
      "['Scale mail', ' mediumArmor', ' 4 gp', ' +3', ' +2', ' -2', ' -5', ' ft.', ' 14', ' 2', ' Composite', ' -']\n",
      "['Chain mail', ' mediumArmor', ' 6 gp', ' +4', ' +1', ' -2', ' -5', ' ft.', ' 16', ' 2', ' Chain', ' Flexible', ' noisy']\n",
      "['Breastplate', ' mediumArmor', ' 8 gp', ' +4', ' +1', ' -2', ' -5', ' ft.', ' 16', ' 2', ' Plate', ' -']\n",
      "['Splint mail', ' heavyArmor', ' 13 gp', ' +5', ' +1', ' -3', ' -10', ' ft.', ' 16', ' 3', ' Composite', ' -']\n",
      "['Half plate', ' heavyArmor', ' 18 gp', ' +5', ' +1', ' -3', ' -10', ' ft.', ' 16', ' 3', ' Plate', ' -']\n",
      "['Full plate', ' heavyArmor', ' 30 gp', ' +6', ' +0', ' -3', ' -10', ' ft.', ' 18', ' 4', ' Plate', ' Bulwark']\n",
      "[]\n",
      "[]\n"
     ]
    }
   ],
   "source": [
    "import csv\n",
    "\n",
    "class Armor:\n",
    "    name = None\n",
    "    armorProficiency = None\n",
    "    price = None\n",
    "    acBonus = None\n",
    "    dexCap = None\n",
    "    checkPenalty = None\n",
    "    speedPenalty = None\n",
    "    strength = None\n",
    "    bulk = None\n",
    "    group = None\n",
    "    armorTraits = None\n",
    "\n",
    "    def __init__(self, name, armorProficiency, price, acBonus, dexCap, chackPenalty,\\\n",
    "                 speedPenalty, strenght, bulk, group, armorTraits):\n",
    "        self.name = name\n",
    "        self.armorProficiency = armorProficiency\n",
    "        self.price = price\n",
    "        self.acBonus = acBonus\n",
    "        self.dexCap = dexCap\n",
    "        self.checkPenalty = checkPenalty\n",
    "        self.speedPenalty = speedPenalty\n",
    "        self.strength = strength\n",
    "        self.bulk = bulk\n",
    "        self.group = group\n",
    "        self.armorTraits = armorTraits\n",
    "        \n",
    "    def __repr__(self):\n",
    "        return f'{self.name}\\t{self.armorProficiency}\\t{self.price}\\t{self.acBonus}'+\\\n",
    "    f'{self.dexCap}\\t{self.checkPenalty}\\t{self.speedPenalty}\\t{self.strength}'+\\\n",
    "    f'{self.bulk}\\t{self.group}\\t{self.armorTraits}';\n",
    "\n",
    "        \n",
    "class ArmorTable:\n",
    "    listArmors = []\n",
    "    \n",
    "    def loadArmors(self):\n",
    "        with open('armor.csv') as csvfile:\n",
    "            skipLine = True\n",
    "            line = csv.reader(csvfile, delimiter=',')\n",
    "            for row in line:\n",
    "                if skipLine:\n",
    "                    skipLine = False\n",
    "                    continue\n",
    "                armor = Armor(*line)\n",
    "                listArmors.append\n"
   ]
  },
  {
   "cell_type": "code",
   "execution_count": null,
   "id": "76967871",
   "metadata": {},
   "outputs": [],
   "source": []
  }
 ],
 "metadata": {
  "kernelspec": {
   "display_name": "Python 3 (ipykernel)",
   "language": "python",
   "name": "python3"
  },
  "language_info": {
   "codemirror_mode": {
    "name": "ipython",
    "version": 3
   },
   "file_extension": ".py",
   "mimetype": "text/x-python",
   "name": "python",
   "nbconvert_exporter": "python",
   "pygments_lexer": "ipython3",
   "version": "3.11.2"
  }
 },
 "nbformat": 4,
 "nbformat_minor": 5
}
